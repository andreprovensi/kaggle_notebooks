{
 "cells": [
  {
   "cell_type": "code",
   "execution_count": 1,
   "id": "ebbbdc6a",
   "metadata": {
    "_cell_guid": "b1076dfc-b9ad-4769-8c92-a6c4dae69d19",
    "_uuid": "8f2839f25d086af736a60e9eeb907d3b93b6e0e5",
    "execution": {
     "iopub.execute_input": "2023-10-28T14:34:35.556369Z",
     "iopub.status.busy": "2023-10-28T14:34:35.556046Z",
     "iopub.status.idle": "2023-10-28T14:34:36.827266Z",
     "shell.execute_reply": "2023-10-28T14:34:36.826295Z"
    },
    "papermill": {
     "duration": 1.283487,
     "end_time": "2023-10-28T14:34:36.829585",
     "exception": false,
     "start_time": "2023-10-28T14:34:35.546098",
     "status": "completed"
    },
    "tags": []
   },
   "outputs": [
    {
     "name": "stdout",
     "output_type": "stream",
     "text": [
      "/kaggle/input/playground-series-s3e24/sample_submission.csv\n",
      "/kaggle/input/playground-series-s3e24/train.csv\n",
      "/kaggle/input/playground-series-s3e24/test.csv\n"
     ]
    }
   ],
   "source": [
    "# This Python 3 environment comes with many helpful analytics libraries installed\n",
    "# It is defined by the kaggle/python Docker image: https://github.com/kaggle/docker-python\n",
    "# For example, here's several helpful packages to load\n",
    "\n",
    "import numpy as np # linear algebra\n",
    "import pandas as pd # data processing, CSV file I/O (e.g. pd.read_csv)\n",
    "\n",
    "# Input data files are available in the read-only \"../input/\" directory\n",
    "# For example, running this (by clicking run or pressing Shift+Enter) will list all files under the input directory\n",
    "\n",
    "\n",
    "import os\n",
    "for dirname, _, filenames in os.walk('/kaggle/input'):\n",
    "    for filename in filenames:\n",
    "        print(os.path.join(dirname, filename))\n",
    "\n",
    "# You can write up to 20GB to the current directory (/kaggle/working/) that gets preserved as output when you create a version using \"Save & Run All\" \n",
    "# You can also write temporary files to /kaggle/temp/, but they won't be saved outside of the current session"
   ]
  },
  {
   "cell_type": "code",
   "execution_count": 2,
   "id": "053efa63",
   "metadata": {
    "execution": {
     "iopub.execute_input": "2023-10-28T14:34:36.847445Z",
     "iopub.status.busy": "2023-10-28T14:34:36.847018Z",
     "iopub.status.idle": "2023-10-28T14:34:39.800446Z",
     "shell.execute_reply": "2023-10-28T14:34:39.799123Z"
    },
    "papermill": {
     "duration": 2.964721,
     "end_time": "2023-10-28T14:34:39.802588",
     "exception": false,
     "start_time": "2023-10-28T14:34:36.837867",
     "status": "completed"
    },
    "tags": []
   },
   "outputs": [
    {
     "name": "stdout",
     "output_type": "stream",
     "text": [
      "cp: cannot stat '../input/rapids/rapids.21.06': No such file or directory\r\n",
      "/bin/bash: line 1: cd: -f: invalid option\r\n",
      "cd: usage: cd [-L|[-P [-e]] [-@]] [dir]\r\n",
      "cp: cannot stat '/opt/conda/envs/rapids/lib/libxgboost.so': No such file or directory\r\n",
      "CPU times: user 8.56 ms, sys: 15.3 ms, total: 23.9 ms\n",
      "Wall time: 2.94 s\n"
     ]
    }
   ],
   "source": [
    "%%time\n",
    "import sys\n",
    "!cp -f ../input/rapids/rapids.21.06 /opt/conda/envs/rapids.tar.gz\n",
    "!cd -f /opt/conda/envs/ && tar -xzvf rapids.tar.gz\n",
    "sys.path = [\"/opt/conda/envs/rapids/lib\"] + [\"/opt/conda/envs/rapids/lib/python3.7\"] + [\"/opt/conda/envs/rapids/lib/python3.7/site-packages\"] + sys.path\n",
    "!cp -f /opt/conda/envs/rapids/lib/libxgboost.so /opt/conda/lib/"
   ]
  },
  {
   "cell_type": "code",
   "execution_count": 3,
   "id": "4fde91d7",
   "metadata": {
    "execution": {
     "iopub.execute_input": "2023-10-28T14:34:39.820732Z",
     "iopub.status.busy": "2023-10-28T14:34:39.820416Z",
     "iopub.status.idle": "2023-10-28T14:34:41.640507Z",
     "shell.execute_reply": "2023-10-28T14:34:41.639697Z"
    },
    "papermill": {
     "duration": 1.831796,
     "end_time": "2023-10-28T14:34:41.642718",
     "exception": false,
     "start_time": "2023-10-28T14:34:39.810922",
     "status": "completed"
    },
    "tags": []
   },
   "outputs": [
    {
     "name": "stderr",
     "output_type": "stream",
     "text": [
      "/opt/conda/lib/python3.10/site-packages/scipy/__init__.py:146: UserWarning: A NumPy version >=1.16.5 and <1.23.0 is required for this version of SciPy (detected version 1.23.5\n",
      "  warnings.warn(f\"A NumPy version >={np_minversion} and <{np_maxversion}\"\n"
     ]
    }
   ],
   "source": [
    "import matplotlib.pyplot as plt\n",
    "import seaborn as sns\n",
    "from IPython.core.display import HTML"
   ]
  },
  {
   "cell_type": "code",
   "execution_count": 4,
   "id": "2ac64d81",
   "metadata": {
    "execution": {
     "iopub.execute_input": "2023-10-28T14:34:41.660799Z",
     "iopub.status.busy": "2023-10-28T14:34:41.660515Z",
     "iopub.status.idle": "2023-10-28T14:34:41.668375Z",
     "shell.execute_reply": "2023-10-28T14:34:41.666652Z"
    },
    "papermill": {
     "duration": 0.019355,
     "end_time": "2023-10-28T14:34:41.670562",
     "exception": false,
     "start_time": "2023-10-28T14:34:41.651207",
     "status": "completed"
    },
    "tags": []
   },
   "outputs": [
    {
     "data": {
      "text/html": [
       "\n",
       "<style>\n",
       "    h1{\n",
       "        font-size:25px !important;\n",
       "        font-family:Helvetica;\n",
       "        \n",
       "    }\n",
       "    \n",
       "    \n",
       "</style>\n"
      ],
      "text/plain": [
       "<IPython.core.display.HTML object>"
      ]
     },
     "execution_count": 4,
     "metadata": {},
     "output_type": "execute_result"
    }
   ],
   "source": [
    "HTML(\n",
    "\"\"\"\n",
    "<style>\n",
    "    h1{\n",
    "        font-size:25px !important;\n",
    "        font-family:Helvetica;\n",
    "        \n",
    "    }\n",
    "    \n",
    "    \n",
    "</style>\n",
    "\"\"\"\n",
    ")"
   ]
  },
  {
   "cell_type": "markdown",
   "id": "ce1ddd3e",
   "metadata": {
    "papermill": {
     "duration": 0.00809,
     "end_time": "2023-10-28T14:34:41.686952",
     "exception": false,
     "start_time": "2023-10-28T14:34:41.678862",
     "status": "completed"
    },
    "tags": []
   },
   "source": [
    "<h1>1 - IMPORTING TRAINING AND TESTING DATA</h1>"
   ]
  },
  {
   "cell_type": "code",
   "execution_count": 5,
   "id": "6f875c34",
   "metadata": {
    "execution": {
     "iopub.execute_input": "2023-10-28T14:34:41.704616Z",
     "iopub.status.busy": "2023-10-28T14:34:41.704087Z",
     "iopub.status.idle": "2023-10-28T14:34:42.284845Z",
     "shell.execute_reply": "2023-10-28T14:34:42.283778Z"
    },
    "papermill": {
     "duration": 0.591904,
     "end_time": "2023-10-28T14:34:42.287036",
     "exception": false,
     "start_time": "2023-10-28T14:34:41.695132",
     "status": "completed"
    },
    "tags": []
   },
   "outputs": [
    {
     "data": {
      "text/html": [
       "<div>\n",
       "<style scoped>\n",
       "    .dataframe tbody tr th:only-of-type {\n",
       "        vertical-align: middle;\n",
       "    }\n",
       "\n",
       "    .dataframe tbody tr th {\n",
       "        vertical-align: top;\n",
       "    }\n",
       "\n",
       "    .dataframe thead th {\n",
       "        text-align: right;\n",
       "    }\n",
       "</style>\n",
       "<table border=\"1\" class=\"dataframe\">\n",
       "  <thead>\n",
       "    <tr style=\"text-align: right;\">\n",
       "      <th></th>\n",
       "      <th>id</th>\n",
       "      <th>age</th>\n",
       "      <th>height(cm)</th>\n",
       "      <th>weight(kg)</th>\n",
       "      <th>waist(cm)</th>\n",
       "      <th>eyesight(left)</th>\n",
       "      <th>eyesight(right)</th>\n",
       "      <th>hearing(left)</th>\n",
       "      <th>hearing(right)</th>\n",
       "      <th>systolic</th>\n",
       "      <th>...</th>\n",
       "      <th>HDL</th>\n",
       "      <th>LDL</th>\n",
       "      <th>hemoglobin</th>\n",
       "      <th>Urine protein</th>\n",
       "      <th>serum creatinine</th>\n",
       "      <th>AST</th>\n",
       "      <th>ALT</th>\n",
       "      <th>Gtp</th>\n",
       "      <th>dental caries</th>\n",
       "      <th>smoking</th>\n",
       "    </tr>\n",
       "  </thead>\n",
       "  <tbody>\n",
       "    <tr>\n",
       "      <th>0</th>\n",
       "      <td>0</td>\n",
       "      <td>55</td>\n",
       "      <td>165</td>\n",
       "      <td>60</td>\n",
       "      <td>81.0</td>\n",
       "      <td>0.5</td>\n",
       "      <td>0.6</td>\n",
       "      <td>1</td>\n",
       "      <td>1</td>\n",
       "      <td>135</td>\n",
       "      <td>...</td>\n",
       "      <td>40</td>\n",
       "      <td>75</td>\n",
       "      <td>16.5</td>\n",
       "      <td>1</td>\n",
       "      <td>1.0</td>\n",
       "      <td>22</td>\n",
       "      <td>25</td>\n",
       "      <td>27</td>\n",
       "      <td>0</td>\n",
       "      <td>1</td>\n",
       "    </tr>\n",
       "    <tr>\n",
       "      <th>1</th>\n",
       "      <td>1</td>\n",
       "      <td>70</td>\n",
       "      <td>165</td>\n",
       "      <td>65</td>\n",
       "      <td>89.0</td>\n",
       "      <td>0.6</td>\n",
       "      <td>0.7</td>\n",
       "      <td>2</td>\n",
       "      <td>2</td>\n",
       "      <td>146</td>\n",
       "      <td>...</td>\n",
       "      <td>57</td>\n",
       "      <td>126</td>\n",
       "      <td>16.2</td>\n",
       "      <td>1</td>\n",
       "      <td>1.1</td>\n",
       "      <td>27</td>\n",
       "      <td>23</td>\n",
       "      <td>37</td>\n",
       "      <td>1</td>\n",
       "      <td>0</td>\n",
       "    </tr>\n",
       "    <tr>\n",
       "      <th>2</th>\n",
       "      <td>2</td>\n",
       "      <td>20</td>\n",
       "      <td>170</td>\n",
       "      <td>75</td>\n",
       "      <td>81.0</td>\n",
       "      <td>0.4</td>\n",
       "      <td>0.5</td>\n",
       "      <td>1</td>\n",
       "      <td>1</td>\n",
       "      <td>118</td>\n",
       "      <td>...</td>\n",
       "      <td>45</td>\n",
       "      <td>93</td>\n",
       "      <td>17.4</td>\n",
       "      <td>1</td>\n",
       "      <td>0.8</td>\n",
       "      <td>27</td>\n",
       "      <td>31</td>\n",
       "      <td>53</td>\n",
       "      <td>0</td>\n",
       "      <td>1</td>\n",
       "    </tr>\n",
       "    <tr>\n",
       "      <th>3</th>\n",
       "      <td>3</td>\n",
       "      <td>35</td>\n",
       "      <td>180</td>\n",
       "      <td>95</td>\n",
       "      <td>105.0</td>\n",
       "      <td>1.5</td>\n",
       "      <td>1.2</td>\n",
       "      <td>1</td>\n",
       "      <td>1</td>\n",
       "      <td>131</td>\n",
       "      <td>...</td>\n",
       "      <td>38</td>\n",
       "      <td>102</td>\n",
       "      <td>15.9</td>\n",
       "      <td>1</td>\n",
       "      <td>1.0</td>\n",
       "      <td>20</td>\n",
       "      <td>27</td>\n",
       "      <td>30</td>\n",
       "      <td>1</td>\n",
       "      <td>0</td>\n",
       "    </tr>\n",
       "    <tr>\n",
       "      <th>4</th>\n",
       "      <td>4</td>\n",
       "      <td>30</td>\n",
       "      <td>165</td>\n",
       "      <td>60</td>\n",
       "      <td>80.5</td>\n",
       "      <td>1.5</td>\n",
       "      <td>1.0</td>\n",
       "      <td>1</td>\n",
       "      <td>1</td>\n",
       "      <td>121</td>\n",
       "      <td>...</td>\n",
       "      <td>44</td>\n",
       "      <td>93</td>\n",
       "      <td>15.4</td>\n",
       "      <td>1</td>\n",
       "      <td>0.8</td>\n",
       "      <td>19</td>\n",
       "      <td>13</td>\n",
       "      <td>17</td>\n",
       "      <td>0</td>\n",
       "      <td>1</td>\n",
       "    </tr>\n",
       "  </tbody>\n",
       "</table>\n",
       "<p>5 rows × 24 columns</p>\n",
       "</div>"
      ],
      "text/plain": [
       "   id  age  height(cm)  weight(kg)  waist(cm)  eyesight(left)  \\\n",
       "0   0   55         165          60       81.0             0.5   \n",
       "1   1   70         165          65       89.0             0.6   \n",
       "2   2   20         170          75       81.0             0.4   \n",
       "3   3   35         180          95      105.0             1.5   \n",
       "4   4   30         165          60       80.5             1.5   \n",
       "\n",
       "   eyesight(right)  hearing(left)  hearing(right)  systolic  ...  HDL  LDL  \\\n",
       "0              0.6              1               1       135  ...   40   75   \n",
       "1              0.7              2               2       146  ...   57  126   \n",
       "2              0.5              1               1       118  ...   45   93   \n",
       "3              1.2              1               1       131  ...   38  102   \n",
       "4              1.0              1               1       121  ...   44   93   \n",
       "\n",
       "   hemoglobin  Urine protein  serum creatinine  AST  ALT  Gtp  dental caries  \\\n",
       "0        16.5              1               1.0   22   25   27              0   \n",
       "1        16.2              1               1.1   27   23   37              1   \n",
       "2        17.4              1               0.8   27   31   53              0   \n",
       "3        15.9              1               1.0   20   27   30              1   \n",
       "4        15.4              1               0.8   19   13   17              0   \n",
       "\n",
       "   smoking  \n",
       "0        1  \n",
       "1        0  \n",
       "2        1  \n",
       "3        0  \n",
       "4        1  \n",
       "\n",
       "[5 rows x 24 columns]"
      ]
     },
     "execution_count": 5,
     "metadata": {},
     "output_type": "execute_result"
    }
   ],
   "source": [
    "df_train = pd.read_csv(\"/kaggle/input/playground-series-s3e24/train.csv\")\n",
    "df_train.head()"
   ]
  },
  {
   "cell_type": "markdown",
   "id": "f730e5d8",
   "metadata": {
    "papermill": {
     "duration": 0.009516,
     "end_time": "2023-10-28T14:34:42.306126",
     "exception": false,
     "start_time": "2023-10-28T14:34:42.296610",
     "status": "completed"
    },
    "tags": []
   },
   "source": [
    "<h1>Some columns have names with spaces. This may cause some troubles later on. Let's remove them</h1>"
   ]
  },
  {
   "cell_type": "code",
   "execution_count": null,
   "id": "cbb9cf3d",
   "metadata": {
    "papermill": {
     "duration": 0.009223,
     "end_time": "2023-10-28T14:34:42.324791",
     "exception": false,
     "start_time": "2023-10-28T14:34:42.315568",
     "status": "completed"
    },
    "tags": []
   },
   "outputs": [],
   "source": []
  },
  {
   "cell_type": "code",
   "execution_count": 6,
   "id": "c62f8969",
   "metadata": {
    "execution": {
     "iopub.execute_input": "2023-10-28T14:34:42.344651Z",
     "iopub.status.busy": "2023-10-28T14:34:42.344281Z",
     "iopub.status.idle": "2023-10-28T14:34:42.349794Z",
     "shell.execute_reply": "2023-10-28T14:34:42.348815Z"
    },
    "papermill": {
     "duration": 0.017752,
     "end_time": "2023-10-28T14:34:42.351821",
     "exception": false,
     "start_time": "2023-10-28T14:34:42.334069",
     "status": "completed"
    },
    "tags": []
   },
   "outputs": [],
   "source": [
    "df_train.columns = [ col if' ' not in col else '_'.join(col.split(' ')).lower() for col in df_train.columns ]"
   ]
  },
  {
   "cell_type": "code",
   "execution_count": 7,
   "id": "08c72214",
   "metadata": {
    "execution": {
     "iopub.execute_input": "2023-10-28T14:34:42.371865Z",
     "iopub.status.busy": "2023-10-28T14:34:42.371326Z",
     "iopub.status.idle": "2023-10-28T14:34:42.377308Z",
     "shell.execute_reply": "2023-10-28T14:34:42.376407Z"
    },
    "papermill": {
     "duration": 0.018258,
     "end_time": "2023-10-28T14:34:42.379402",
     "exception": false,
     "start_time": "2023-10-28T14:34:42.361144",
     "status": "completed"
    },
    "tags": []
   },
   "outputs": [
    {
     "data": {
      "text/plain": [
       "(159256, 24)"
      ]
     },
     "execution_count": 7,
     "metadata": {},
     "output_type": "execute_result"
    }
   ],
   "source": [
    "df_train.shape"
   ]
  },
  {
   "cell_type": "code",
   "execution_count": 8,
   "id": "4b34c598",
   "metadata": {
    "execution": {
     "iopub.execute_input": "2023-10-28T14:34:42.398464Z",
     "iopub.status.busy": "2023-10-28T14:34:42.398207Z",
     "iopub.status.idle": "2023-10-28T14:34:42.402184Z",
     "shell.execute_reply": "2023-10-28T14:34:42.401389Z"
    },
    "papermill": {
     "duration": 0.015615,
     "end_time": "2023-10-28T14:34:42.404076",
     "exception": false,
     "start_time": "2023-10-28T14:34:42.388461",
     "status": "completed"
    },
    "tags": []
   },
   "outputs": [],
   "source": [
    "target = 'smoking'"
   ]
  },
  {
   "cell_type": "markdown",
   "id": "16741267",
   "metadata": {
    "papermill": {
     "duration": 0.008817,
     "end_time": "2023-10-28T14:34:42.422094",
     "exception": false,
     "start_time": "2023-10-28T14:34:42.413277",
     "status": "completed"
    },
    "tags": []
   },
   "source": [
    "<h1>Let's check whether there is missing data in the dataset</h1>"
   ]
  },
  {
   "cell_type": "code",
   "execution_count": 9,
   "id": "6832aba2",
   "metadata": {
    "execution": {
     "iopub.execute_input": "2023-10-28T14:34:42.441613Z",
     "iopub.status.busy": "2023-10-28T14:34:42.441320Z",
     "iopub.status.idle": "2023-10-28T14:34:42.454061Z",
     "shell.execute_reply": "2023-10-28T14:34:42.453102Z"
    },
    "papermill": {
     "duration": 0.025139,
     "end_time": "2023-10-28T14:34:42.456523",
     "exception": false,
     "start_time": "2023-10-28T14:34:42.431384",
     "status": "completed"
    },
    "tags": []
   },
   "outputs": [
    {
     "data": {
      "text/plain": [
       "id                     0\n",
       "age                    0\n",
       "height(cm)             0\n",
       "weight(kg)             0\n",
       "waist(cm)              0\n",
       "eyesight(left)         0\n",
       "eyesight(right)        0\n",
       "hearing(left)          0\n",
       "hearing(right)         0\n",
       "systolic               0\n",
       "relaxation             0\n",
       "fasting_blood_sugar    0\n",
       "Cholesterol            0\n",
       "triglyceride           0\n",
       "HDL                    0\n",
       "LDL                    0\n",
       "hemoglobin             0\n",
       "urine_protein          0\n",
       "serum_creatinine       0\n",
       "AST                    0\n",
       "ALT                    0\n",
       "Gtp                    0\n",
       "dental_caries          0\n",
       "smoking                0\n",
       "dtype: int64"
      ]
     },
     "execution_count": 9,
     "metadata": {},
     "output_type": "execute_result"
    }
   ],
   "source": [
    "df_train.isna().sum()"
   ]
  },
  {
   "cell_type": "code",
   "execution_count": 10,
   "id": "60176e3d",
   "metadata": {
    "execution": {
     "iopub.execute_input": "2023-10-28T14:34:42.477894Z",
     "iopub.status.busy": "2023-10-28T14:34:42.477053Z",
     "iopub.status.idle": "2023-10-28T14:34:42.631994Z",
     "shell.execute_reply": "2023-10-28T14:34:42.631103Z"
    },
    "papermill": {
     "duration": 0.167771,
     "end_time": "2023-10-28T14:34:42.633991",
     "exception": false,
     "start_time": "2023-10-28T14:34:42.466220",
     "status": "completed"
    },
    "tags": []
   },
   "outputs": [
    {
     "data": {
      "text/plain": [
       "0"
      ]
     },
     "execution_count": 10,
     "metadata": {},
     "output_type": "execute_result"
    }
   ],
   "source": [
    "df_train.duplicated().sum()"
   ]
  },
  {
   "cell_type": "code",
   "execution_count": 11,
   "id": "132d63c8",
   "metadata": {
    "execution": {
     "iopub.execute_input": "2023-10-28T14:34:42.653491Z",
     "iopub.status.busy": "2023-10-28T14:34:42.653204Z",
     "iopub.status.idle": "2023-10-28T14:34:42.695230Z",
     "shell.execute_reply": "2023-10-28T14:34:42.694306Z"
    },
    "papermill": {
     "duration": 0.054174,
     "end_time": "2023-10-28T14:34:42.697456",
     "exception": false,
     "start_time": "2023-10-28T14:34:42.643282",
     "status": "completed"
    },
    "tags": []
   },
   "outputs": [
    {
     "data": {
      "text/html": [
       "<div>\n",
       "<style scoped>\n",
       "    .dataframe tbody tr th:only-of-type {\n",
       "        vertical-align: middle;\n",
       "    }\n",
       "\n",
       "    .dataframe tbody tr th {\n",
       "        vertical-align: top;\n",
       "    }\n",
       "\n",
       "    .dataframe thead th {\n",
       "        text-align: right;\n",
       "    }\n",
       "</style>\n",
       "<table border=\"1\" class=\"dataframe\">\n",
       "  <thead>\n",
       "    <tr style=\"text-align: right;\">\n",
       "      <th></th>\n",
       "      <th>n_unique</th>\n",
       "    </tr>\n",
       "  </thead>\n",
       "  <tbody>\n",
       "    <tr>\n",
       "      <th>age</th>\n",
       "      <td>18</td>\n",
       "    </tr>\n",
       "    <tr>\n",
       "      <th>height(cm)</th>\n",
       "      <td>14</td>\n",
       "    </tr>\n",
       "    <tr>\n",
       "      <th>weight(kg)</th>\n",
       "      <td>28</td>\n",
       "    </tr>\n",
       "    <tr>\n",
       "      <th>waist(cm)</th>\n",
       "      <td>531</td>\n",
       "    </tr>\n",
       "    <tr>\n",
       "      <th>eyesight(left)</th>\n",
       "      <td>20</td>\n",
       "    </tr>\n",
       "    <tr>\n",
       "      <th>eyesight(right)</th>\n",
       "      <td>17</td>\n",
       "    </tr>\n",
       "    <tr>\n",
       "      <th>hearing(left)</th>\n",
       "      <td>2</td>\n",
       "    </tr>\n",
       "    <tr>\n",
       "      <th>hearing(right)</th>\n",
       "      <td>2</td>\n",
       "    </tr>\n",
       "    <tr>\n",
       "      <th>systolic</th>\n",
       "      <td>112</td>\n",
       "    </tr>\n",
       "    <tr>\n",
       "      <th>relaxation</th>\n",
       "      <td>75</td>\n",
       "    </tr>\n",
       "    <tr>\n",
       "      <th>fasting_blood_sugar</th>\n",
       "      <td>229</td>\n",
       "    </tr>\n",
       "    <tr>\n",
       "      <th>Cholesterol</th>\n",
       "      <td>227</td>\n",
       "    </tr>\n",
       "    <tr>\n",
       "      <th>triglyceride</th>\n",
       "      <td>392</td>\n",
       "    </tr>\n",
       "    <tr>\n",
       "      <th>HDL</th>\n",
       "      <td>108</td>\n",
       "    </tr>\n",
       "    <tr>\n",
       "      <th>LDL</th>\n",
       "      <td>222</td>\n",
       "    </tr>\n",
       "    <tr>\n",
       "      <th>hemoglobin</th>\n",
       "      <td>134</td>\n",
       "    </tr>\n",
       "    <tr>\n",
       "      <th>urine_protein</th>\n",
       "      <td>6</td>\n",
       "    </tr>\n",
       "    <tr>\n",
       "      <th>serum_creatinine</th>\n",
       "      <td>28</td>\n",
       "    </tr>\n",
       "    <tr>\n",
       "      <th>AST</th>\n",
       "      <td>140</td>\n",
       "    </tr>\n",
       "    <tr>\n",
       "      <th>ALT</th>\n",
       "      <td>188</td>\n",
       "    </tr>\n",
       "    <tr>\n",
       "      <th>Gtp</th>\n",
       "      <td>362</td>\n",
       "    </tr>\n",
       "    <tr>\n",
       "      <th>dental_caries</th>\n",
       "      <td>2</td>\n",
       "    </tr>\n",
       "  </tbody>\n",
       "</table>\n",
       "</div>"
      ],
      "text/plain": [
       "                     n_unique\n",
       "age                        18\n",
       "height(cm)                 14\n",
       "weight(kg)                 28\n",
       "waist(cm)                 531\n",
       "eyesight(left)             20\n",
       "eyesight(right)            17\n",
       "hearing(left)               2\n",
       "hearing(right)              2\n",
       "systolic                  112\n",
       "relaxation                 75\n",
       "fasting_blood_sugar       229\n",
       "Cholesterol               227\n",
       "triglyceride              392\n",
       "HDL                       108\n",
       "LDL                       222\n",
       "hemoglobin                134\n",
       "urine_protein               6\n",
       "serum_creatinine           28\n",
       "AST                       140\n",
       "ALT                       188\n",
       "Gtp                       362\n",
       "dental_caries               2"
      ]
     },
     "execution_count": 11,
     "metadata": {},
     "output_type": "execute_result"
    }
   ],
   "source": [
    "df_train.drop(columns=['id',target]).nunique().to_frame().rename(columns={0:'n_unique'})"
   ]
  },
  {
   "cell_type": "code",
   "execution_count": 12,
   "id": "2396916e",
   "metadata": {
    "execution": {
     "iopub.execute_input": "2023-10-28T14:34:42.719615Z",
     "iopub.status.busy": "2023-10-28T14:34:42.719010Z",
     "iopub.status.idle": "2023-10-28T14:34:42.756321Z",
     "shell.execute_reply": "2023-10-28T14:34:42.755572Z"
    },
    "papermill": {
     "duration": 0.050462,
     "end_time": "2023-10-28T14:34:42.758312",
     "exception": false,
     "start_time": "2023-10-28T14:34:42.707850",
     "status": "completed"
    },
    "tags": []
   },
   "outputs": [],
   "source": [
    "cat_features = df_train.drop(columns=['id',target]).nunique().to_frame().rename(columns={0:'n_unique'}).query(\"n_unique<=2\").index.tolist()"
   ]
  },
  {
   "cell_type": "code",
   "execution_count": 13,
   "id": "b73f3ed1",
   "metadata": {
    "execution": {
     "iopub.execute_input": "2023-10-28T14:34:42.778121Z",
     "iopub.status.busy": "2023-10-28T14:34:42.777858Z",
     "iopub.status.idle": "2023-10-28T14:34:42.789632Z",
     "shell.execute_reply": "2023-10-28T14:34:42.788767Z"
    },
    "papermill": {
     "duration": 0.023722,
     "end_time": "2023-10-28T14:34:42.791460",
     "exception": false,
     "start_time": "2023-10-28T14:34:42.767738",
     "status": "completed"
    },
    "tags": []
   },
   "outputs": [
    {
     "data": {
      "text/plain": [
       "['eyesight(left)',\n",
       " 'systolic',\n",
       " 'serum_creatinine',\n",
       " 'height(cm)',\n",
       " 'fasting_blood_sugar',\n",
       " 'hemoglobin',\n",
       " 'weight(kg)',\n",
       " 'triglyceride',\n",
       " 'Gtp',\n",
       " 'eyesight(right)',\n",
       " 'relaxation',\n",
       " 'urine_protein',\n",
       " 'age',\n",
       " 'waist(cm)',\n",
       " 'ALT',\n",
       " 'AST',\n",
       " 'HDL',\n",
       " 'LDL',\n",
       " 'Cholesterol']"
      ]
     },
     "execution_count": 13,
     "metadata": {},
     "output_type": "execute_result"
    }
   ],
   "source": [
    "num_features = list(set(df_train.drop(columns=['id',target]).columns) - set(cat_features))\n",
    "num_features"
   ]
  },
  {
   "cell_type": "code",
   "execution_count": 14,
   "id": "45dddcf3",
   "metadata": {
    "execution": {
     "iopub.execute_input": "2023-10-28T14:34:42.811688Z",
     "iopub.status.busy": "2023-10-28T14:34:42.811448Z",
     "iopub.status.idle": "2023-10-28T14:34:42.815380Z",
     "shell.execute_reply": "2023-10-28T14:34:42.814572Z"
    },
    "papermill": {
     "duration": 0.01624,
     "end_time": "2023-10-28T14:34:42.817381",
     "exception": false,
     "start_time": "2023-10-28T14:34:42.801141",
     "status": "completed"
    },
    "tags": []
   },
   "outputs": [],
   "source": [
    "features = num_features + cat_features"
   ]
  },
  {
   "cell_type": "code",
   "execution_count": 15,
   "id": "0917dc78",
   "metadata": {
    "execution": {
     "iopub.execute_input": "2023-10-28T14:34:42.837007Z",
     "iopub.status.busy": "2023-10-28T14:34:42.836777Z",
     "iopub.status.idle": "2023-10-28T14:34:42.840983Z",
     "shell.execute_reply": "2023-10-28T14:34:42.840207Z"
    },
    "papermill": {
     "duration": 0.016101,
     "end_time": "2023-10-28T14:34:42.842788",
     "exception": false,
     "start_time": "2023-10-28T14:34:42.826687",
     "status": "completed"
    },
    "tags": []
   },
   "outputs": [],
   "source": [
    "if len(num_features) + len(cat_features) + 2 != df_train.shape[1]:\n",
    "    raise ValueError(\"dimensionverbose=ote match\")"
   ]
  },
  {
   "cell_type": "code",
   "execution_count": 16,
   "id": "6f313a92",
   "metadata": {
    "execution": {
     "iopub.execute_input": "2023-10-28T14:34:42.862396Z",
     "iopub.status.busy": "2023-10-28T14:34:42.862107Z",
     "iopub.status.idle": "2023-10-28T14:34:43.752731Z",
     "shell.execute_reply": "2023-10-28T14:34:43.751613Z"
    },
    "papermill": {
     "duration": 0.902966,
     "end_time": "2023-10-28T14:34:43.755058",
     "exception": false,
     "start_time": "2023-10-28T14:34:42.852092",
     "status": "completed"
    },
    "tags": []
   },
   "outputs": [],
   "source": [
    "from sklearn.manifold import TSNE\n",
    "from sklearn.preprocessing import RobustScaler, StandardScaler\n",
    "X = df_train[features]\n",
    "X = StandardScaler().fit_transform(X)\n",
    "emb = TSNE(n_components=2,verbose=1,perplexity=20,early_exaggeration=25)\n",
    "# X_emb = emb.fit_transform(X)"
   ]
  },
  {
   "cell_type": "code",
   "execution_count": 17,
   "id": "8fffbf2c",
   "metadata": {
    "execution": {
     "iopub.execute_input": "2023-10-28T14:34:43.775941Z",
     "iopub.status.busy": "2023-10-28T14:34:43.775608Z",
     "iopub.status.idle": "2023-10-28T14:34:43.779760Z",
     "shell.execute_reply": "2023-10-28T14:34:43.778955Z"
    },
    "papermill": {
     "duration": 0.016617,
     "end_time": "2023-10-28T14:34:43.781531",
     "exception": false,
     "start_time": "2023-10-28T14:34:43.764914",
     "status": "completed"
    },
    "tags": []
   },
   "outputs": [],
   "source": [
    "# df_tsne = pd.DataFrame(X_emb,columns=['c0','c1'])\n",
    "# df_tsne[target] = df_train[target]"
   ]
  },
  {
   "cell_type": "code",
   "execution_count": 18,
   "id": "db455cd2",
   "metadata": {
    "execution": {
     "iopub.execute_input": "2023-10-28T14:34:43.801522Z",
     "iopub.status.busy": "2023-10-28T14:34:43.801249Z",
     "iopub.status.idle": "2023-10-28T14:34:43.804816Z",
     "shell.execute_reply": "2023-10-28T14:34:43.803966Z"
    },
    "papermill": {
     "duration": 0.015733,
     "end_time": "2023-10-28T14:34:43.806739",
     "exception": false,
     "start_time": "2023-10-28T14:34:43.791006",
     "status": "completed"
    },
    "tags": []
   },
   "outputs": [],
   "source": [
    "# plt.figure(figsize=(10,10))\n",
    "# sns.scatterplot(data=df_tsne,x='c0',y='c1',hue=target)"
   ]
  },
  {
   "cell_type": "code",
   "execution_count": 19,
   "id": "6164a921",
   "metadata": {
    "execution": {
     "iopub.execute_input": "2023-10-28T14:34:43.826737Z",
     "iopub.status.busy": "2023-10-28T14:34:43.826483Z",
     "iopub.status.idle": "2023-10-28T14:34:44.157110Z",
     "shell.execute_reply": "2023-10-28T14:34:44.156070Z"
    },
    "papermill": {
     "duration": 0.343212,
     "end_time": "2023-10-28T14:34:44.159605",
     "exception": false,
     "start_time": "2023-10-28T14:34:43.816393",
     "status": "completed"
    },
    "tags": []
   },
   "outputs": [
    {
     "data": {
      "text/html": [
       "<div>\n",
       "<style scoped>\n",
       "    .dataframe tbody tr th:only-of-type {\n",
       "        vertical-align: middle;\n",
       "    }\n",
       "\n",
       "    .dataframe tbody tr th {\n",
       "        vertical-align: top;\n",
       "    }\n",
       "\n",
       "    .dataframe thead th {\n",
       "        text-align: right;\n",
       "    }\n",
       "</style>\n",
       "<table border=\"1\" class=\"dataframe\">\n",
       "  <thead>\n",
       "    <tr style=\"text-align: right;\">\n",
       "      <th></th>\n",
       "      <th>id</th>\n",
       "      <th>age</th>\n",
       "      <th>height(cm)</th>\n",
       "      <th>weight(kg)</th>\n",
       "      <th>waist(cm)</th>\n",
       "      <th>eyesight(left)</th>\n",
       "      <th>eyesight(right)</th>\n",
       "      <th>hearing(left)</th>\n",
       "      <th>hearing(right)</th>\n",
       "      <th>systolic</th>\n",
       "      <th>...</th>\n",
       "      <th>triglyceride</th>\n",
       "      <th>HDL</th>\n",
       "      <th>LDL</th>\n",
       "      <th>hemoglobin</th>\n",
       "      <th>Urine protein</th>\n",
       "      <th>serum creatinine</th>\n",
       "      <th>AST</th>\n",
       "      <th>ALT</th>\n",
       "      <th>Gtp</th>\n",
       "      <th>dental caries</th>\n",
       "    </tr>\n",
       "  </thead>\n",
       "  <tbody>\n",
       "    <tr>\n",
       "      <th>0</th>\n",
       "      <td>159256</td>\n",
       "      <td>40</td>\n",
       "      <td>165</td>\n",
       "      <td>70</td>\n",
       "      <td>84.0</td>\n",
       "      <td>1.2</td>\n",
       "      <td>1.2</td>\n",
       "      <td>1</td>\n",
       "      <td>1</td>\n",
       "      <td>130</td>\n",
       "      <td>...</td>\n",
       "      <td>186</td>\n",
       "      <td>49</td>\n",
       "      <td>115</td>\n",
       "      <td>14.2</td>\n",
       "      <td>1</td>\n",
       "      <td>0.9</td>\n",
       "      <td>19</td>\n",
       "      <td>25</td>\n",
       "      <td>32</td>\n",
       "      <td>0</td>\n",
       "    </tr>\n",
       "    <tr>\n",
       "      <th>1</th>\n",
       "      <td>159257</td>\n",
       "      <td>80</td>\n",
       "      <td>160</td>\n",
       "      <td>60</td>\n",
       "      <td>93.0</td>\n",
       "      <td>1.0</td>\n",
       "      <td>1.0</td>\n",
       "      <td>2</td>\n",
       "      <td>2</td>\n",
       "      <td>144</td>\n",
       "      <td>...</td>\n",
       "      <td>158</td>\n",
       "      <td>35</td>\n",
       "      <td>104</td>\n",
       "      <td>13.0</td>\n",
       "      <td>1</td>\n",
       "      <td>1.1</td>\n",
       "      <td>20</td>\n",
       "      <td>12</td>\n",
       "      <td>24</td>\n",
       "      <td>0</td>\n",
       "    </tr>\n",
       "    <tr>\n",
       "      <th>2</th>\n",
       "      <td>159258</td>\n",
       "      <td>60</td>\n",
       "      <td>170</td>\n",
       "      <td>70</td>\n",
       "      <td>86.5</td>\n",
       "      <td>0.6</td>\n",
       "      <td>0.7</td>\n",
       "      <td>1</td>\n",
       "      <td>1</td>\n",
       "      <td>117</td>\n",
       "      <td>...</td>\n",
       "      <td>173</td>\n",
       "      <td>39</td>\n",
       "      <td>88</td>\n",
       "      <td>15.4</td>\n",
       "      <td>1</td>\n",
       "      <td>1.4</td>\n",
       "      <td>38</td>\n",
       "      <td>60</td>\n",
       "      <td>36</td>\n",
       "      <td>0</td>\n",
       "    </tr>\n",
       "    <tr>\n",
       "      <th>3</th>\n",
       "      <td>159259</td>\n",
       "      <td>40</td>\n",
       "      <td>160</td>\n",
       "      <td>50</td>\n",
       "      <td>67.0</td>\n",
       "      <td>0.3</td>\n",
       "      <td>0.4</td>\n",
       "      <td>1</td>\n",
       "      <td>1</td>\n",
       "      <td>116</td>\n",
       "      <td>...</td>\n",
       "      <td>47</td>\n",
       "      <td>75</td>\n",
       "      <td>128</td>\n",
       "      <td>14.5</td>\n",
       "      <td>1</td>\n",
       "      <td>0.6</td>\n",
       "      <td>25</td>\n",
       "      <td>18</td>\n",
       "      <td>10</td>\n",
       "      <td>1</td>\n",
       "    </tr>\n",
       "    <tr>\n",
       "      <th>4</th>\n",
       "      <td>159260</td>\n",
       "      <td>40</td>\n",
       "      <td>170</td>\n",
       "      <td>75</td>\n",
       "      <td>89.4</td>\n",
       "      <td>1.0</td>\n",
       "      <td>0.9</td>\n",
       "      <td>1</td>\n",
       "      <td>1</td>\n",
       "      <td>132</td>\n",
       "      <td>...</td>\n",
       "      <td>100</td>\n",
       "      <td>39</td>\n",
       "      <td>123</td>\n",
       "      <td>16.5</td>\n",
       "      <td>1</td>\n",
       "      <td>1.0</td>\n",
       "      <td>30</td>\n",
       "      <td>39</td>\n",
       "      <td>27</td>\n",
       "      <td>1</td>\n",
       "    </tr>\n",
       "  </tbody>\n",
       "</table>\n",
       "<p>5 rows × 23 columns</p>\n",
       "</div>"
      ],
      "text/plain": [
       "       id  age  height(cm)  weight(kg)  waist(cm)  eyesight(left)  \\\n",
       "0  159256   40         165          70       84.0             1.2   \n",
       "1  159257   80         160          60       93.0             1.0   \n",
       "2  159258   60         170          70       86.5             0.6   \n",
       "3  159259   40         160          50       67.0             0.3   \n",
       "4  159260   40         170          75       89.4             1.0   \n",
       "\n",
       "   eyesight(right)  hearing(left)  hearing(right)  systolic  ...  \\\n",
       "0              1.2              1               1       130  ...   \n",
       "1              1.0              2               2       144  ...   \n",
       "2              0.7              1               1       117  ...   \n",
       "3              0.4              1               1       116  ...   \n",
       "4              0.9              1               1       132  ...   \n",
       "\n",
       "   triglyceride  HDL  LDL  hemoglobin  Urine protein  serum creatinine  AST  \\\n",
       "0           186   49  115        14.2              1               0.9   19   \n",
       "1           158   35  104        13.0              1               1.1   20   \n",
       "2           173   39   88        15.4              1               1.4   38   \n",
       "3            47   75  128        14.5              1               0.6   25   \n",
       "4           100   39  123        16.5              1               1.0   30   \n",
       "\n",
       "   ALT  Gtp  dental caries  \n",
       "0   25   32              0  \n",
       "1   12   24              0  \n",
       "2   60   36              0  \n",
       "3   18   10              1  \n",
       "4   39   27              1  \n",
       "\n",
       "[5 rows x 23 columns]"
      ]
     },
     "execution_count": 19,
     "metadata": {},
     "output_type": "execute_result"
    }
   ],
   "source": [
    "df_test = pd.read_csv(\"/kaggle/input/playground-series-s3e24/test.csv\")\n",
    "df_test.head()"
   ]
  },
  {
   "cell_type": "code",
   "execution_count": 20,
   "id": "ec9bd343",
   "metadata": {
    "execution": {
     "iopub.execute_input": "2023-10-28T14:34:44.182851Z",
     "iopub.status.busy": "2023-10-28T14:34:44.182497Z",
     "iopub.status.idle": "2023-10-28T14:34:44.187804Z",
     "shell.execute_reply": "2023-10-28T14:34:44.186942Z"
    },
    "papermill": {
     "duration": 0.018659,
     "end_time": "2023-10-28T14:34:44.189918",
     "exception": false,
     "start_time": "2023-10-28T14:34:44.171259",
     "status": "completed"
    },
    "tags": []
   },
   "outputs": [],
   "source": [
    "df_test.columns = [ col if' ' not in col else '_'.join(col.split(' ')).lower() for col in df_test.columns ]"
   ]
  },
  {
   "cell_type": "code",
   "execution_count": 21,
   "id": "08269ac5",
   "metadata": {
    "execution": {
     "iopub.execute_input": "2023-10-28T14:34:44.211643Z",
     "iopub.status.busy": "2023-10-28T14:34:44.211320Z",
     "iopub.status.idle": "2023-10-28T14:34:44.221551Z",
     "shell.execute_reply": "2023-10-28T14:34:44.220696Z"
    },
    "papermill": {
     "duration": 0.023494,
     "end_time": "2023-10-28T14:34:44.223534",
     "exception": false,
     "start_time": "2023-10-28T14:34:44.200040",
     "status": "completed"
    },
    "tags": []
   },
   "outputs": [
    {
     "data": {
      "text/plain": [
       "id                     0\n",
       "age                    0\n",
       "height(cm)             0\n",
       "weight(kg)             0\n",
       "waist(cm)              0\n",
       "eyesight(left)         0\n",
       "eyesight(right)        0\n",
       "hearing(left)          0\n",
       "hearing(right)         0\n",
       "systolic               0\n",
       "relaxation             0\n",
       "fasting_blood_sugar    0\n",
       "Cholesterol            0\n",
       "triglyceride           0\n",
       "HDL                    0\n",
       "LDL                    0\n",
       "hemoglobin             0\n",
       "urine_protein          0\n",
       "serum_creatinine       0\n",
       "AST                    0\n",
       "ALT                    0\n",
       "Gtp                    0\n",
       "dental_caries          0\n",
       "dtype: int64"
      ]
     },
     "execution_count": 21,
     "metadata": {},
     "output_type": "execute_result"
    }
   ],
   "source": [
    "df_test.isna().sum()"
   ]
  },
  {
   "cell_type": "code",
   "execution_count": 22,
   "id": "72909fe4",
   "metadata": {
    "execution": {
     "iopub.execute_input": "2023-10-28T14:34:44.246664Z",
     "iopub.status.busy": "2023-10-28T14:34:44.246309Z",
     "iopub.status.idle": "2023-10-28T14:34:44.255404Z",
     "shell.execute_reply": "2023-10-28T14:34:44.254575Z"
    },
    "papermill": {
     "duration": 0.023189,
     "end_time": "2023-10-28T14:34:44.257471",
     "exception": false,
     "start_time": "2023-10-28T14:34:44.234282",
     "status": "completed"
    },
    "tags": []
   },
   "outputs": [],
   "source": [
    "def plot_train_test_distribution():\n",
    "    n_features = len(cat_features) + len(num_features)\n",
    "    features = num_features + cat_features \n",
    "    df_train_plot = df_train[features].copy()\n",
    "    df_train_plot['label'] = 'TRAIN'\n",
    "    \n",
    "    df_test_plot = df_test[features].copy()\n",
    "    df_test_plot['label'] = 'TEST'\n",
    "    \n",
    "    df_plot = pd.concat([df_train_plot,df_test_plot],axis=0)\n",
    "    \n",
    "    plt.tight_layout(w_pad=3,h_pad=4)\n",
    "    for idx,f in enumerate(features):\n",
    "        if f in num_features:\n",
    "            fig = plt.figure(figsize=(15,4))\n",
    "            plt.subplot(121)\n",
    "            sns.histplot(data=df_plot,x=f,hue='label',kde=True)\n",
    "            \n",
    "            plt.subplot(122)\n",
    "            sns.boxplot(data=df_plot,x=f,orient='h',y='label')\n",
    "            \n",
    "            fig.show()\n",
    "        if f in cat_features:\n",
    "            plt.figure(figsize=(15,4))\n",
    "            sns.countplot(data=df_plot,x=f,hue='label')"
   ]
  },
  {
   "cell_type": "code",
   "execution_count": 23,
   "id": "d8d63fc8",
   "metadata": {
    "execution": {
     "iopub.execute_input": "2023-10-28T14:34:44.281058Z",
     "iopub.status.busy": "2023-10-28T14:34:44.280723Z",
     "iopub.status.idle": "2023-10-28T14:34:44.555930Z",
     "shell.execute_reply": "2023-10-28T14:34:44.555071Z"
    },
    "papermill": {
     "duration": 0.289402,
     "end_time": "2023-10-28T14:34:44.557944",
     "exception": false,
     "start_time": "2023-10-28T14:34:44.268542",
     "status": "completed"
    },
    "tags": []
   },
   "outputs": [
    {
     "data": {
      "text/plain": [
       "<Axes: xlabel='smoking', ylabel='count'>"
      ]
     },
     "execution_count": 23,
     "metadata": {},
     "output_type": "execute_result"
    },
    {
     "data": {
      "image/png": "[encoded data removed]",
      "text/plain": [
       "<Figure size 640x480 with 1 Axes>"
      ]
     },
     "metadata": {},
     "output_type": "display_data"
    }
   ],
   "source": [
    "sns.countplot(data=df_train,x=target)"
   ]
  },
  {
   "cell_type": "code",
   "execution_count": 24,
   "id": "4581bb23",
   "metadata": {
    "execution": {
     "iopub.execute_input": "2023-10-28T14:34:44.581202Z",
     "iopub.status.busy": "2023-10-28T14:34:44.580592Z",
     "iopub.status.idle": "2023-10-28T14:34:44.584561Z",
     "shell.execute_reply": "2023-10-28T14:34:44.583675Z"
    },
    "papermill": {
     "duration": 0.017794,
     "end_time": "2023-10-28T14:34:44.586562",
     "exception": false,
     "start_time": "2023-10-28T14:34:44.568768",
     "status": "completed"
    },
    "tags": []
   },
   "outputs": [],
   "source": [
    "# plot_train_test_distribution()"
   ]
  },
  {
   "cell_type": "code",
   "execution_count": 25,
   "id": "c51babe0",
   "metadata": {
    "execution": {
     "iopub.execute_input": "2023-10-28T14:34:44.611173Z",
     "iopub.status.busy": "2023-10-28T14:34:44.610836Z",
     "iopub.status.idle": "2023-10-28T14:34:44.619452Z",
     "shell.execute_reply": "2023-10-28T14:34:44.618382Z"
    },
    "papermill": {
     "duration": 0.024406,
     "end_time": "2023-10-28T14:34:44.621480",
     "exception": false,
     "start_time": "2023-10-28T14:34:44.597074",
     "status": "completed"
    },
    "tags": []
   },
   "outputs": [],
   "source": [
    "def plot_target_variables_interaction():\n",
    "    n_features = len(cat_features) + len(num_features)\n",
    "    features = num_features + cat_features \n",
    "    df_train_plot = df_train[features].copy()\n",
    "    df_plot = df_train\n",
    "    \n",
    "    plt.tight_layout(w_pad=3,h_pad=4)\n",
    "    for idx,f in enumerate(features):\n",
    "        if f in num_features:\n",
    "            fig = plt.figure(figsize=(15,4))\n",
    "            plt.subplot(121)\n",
    "            sns.histplot(data=df_plot,x=f,hue=target,kde=True)\n",
    "            \n",
    "            plt.subplot(122)\n",
    "            sns.boxplot(data=df_plot,y=f,x=target)\n",
    "            \n",
    "            fig.show()\n",
    "        if f in cat_features:\n",
    "            plt.figure(figsize=(15,4))\n",
    "            sns.countplot(data=df_plot,x=f,hue=target)"
   ]
  },
  {
   "cell_type": "code",
   "execution_count": 26,
   "id": "a94ae621",
   "metadata": {
    "execution": {
     "iopub.execute_input": "2023-10-28T14:34:44.644032Z",
     "iopub.status.busy": "2023-10-28T14:34:44.643754Z",
     "iopub.status.idle": "2023-10-28T14:34:44.647788Z",
     "shell.execute_reply": "2023-10-28T14:34:44.646942Z"
    },
    "papermill": {
     "duration": 0.01748,
     "end_time": "2023-10-28T14:34:44.649744",
     "exception": false,
     "start_time": "2023-10-28T14:34:44.632264",
     "status": "completed"
    },
    "tags": []
   },
   "outputs": [],
   "source": [
    "# plot_target_variables_interaction()"
   ]
  },
  {
   "cell_type": "code",
   "execution_count": 27,
   "id": "b99035b8",
   "metadata": {
    "execution": {
     "iopub.execute_input": "2023-10-28T14:34:44.716886Z",
     "iopub.status.busy": "2023-10-28T14:34:44.716551Z",
     "iopub.status.idle": "2023-10-28T14:34:44.720750Z",
     "shell.execute_reply": "2023-10-28T14:34:44.719923Z"
    },
    "papermill": {
     "duration": 0.018462,
     "end_time": "2023-10-28T14:34:44.722610",
     "exception": false,
     "start_time": "2023-10-28T14:34:44.704148",
     "status": "completed"
    },
    "tags": []
   },
   "outputs": [],
   "source": [
    "# sns.pairplot(data=df_train,hue=target)"
   ]
  },
  {
   "cell_type": "code",
   "execution_count": null,
   "id": "c981df62",
   "metadata": {
    "papermill": {
     "duration": 0.011074,
     "end_time": "2023-10-28T14:34:44.744697",
     "exception": false,
     "start_time": "2023-10-28T14:34:44.733623",
     "status": "completed"
    },
    "tags": []
   },
   "outputs": [],
   "source": []
  }
 ],
 "metadata": {
  "kernelspec": {
   "display_name": "Python 3",
   "language": "python",
   "name": "python3"
  },
  "language_info": {
   "codemirror_mode": {
    "name": "ipython",
    "version": 3
   },
   "file_extension": ".py",
   "mimetype": "text/x-python",
   "name": "python",
   "nbconvert_exporter": "python",
   "pygments_lexer": "ipython3",
   "version": "3.10.12"
  },
  "papermill": {
   "default_parameters": {},
   "duration": 14.340386,
   "end_time": "2023-10-28T14:34:45.279925",
   "environment_variables": {},
   "exception": null,
   "input_path": "__notebook__.ipynb",
   "output_path": "__notebook__.ipynb",
   "parameters": {},
   "start_time": "2023-10-28T14:34:30.939539",
   "version": "2.4.0"
  }
 },
 "nbformat": 4,
 "nbformat_minor": 5
}
